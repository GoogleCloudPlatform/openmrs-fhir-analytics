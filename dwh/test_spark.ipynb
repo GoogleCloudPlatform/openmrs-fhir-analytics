{
 "cells": [
  {
   "cell_type": "code",
   "execution_count": 1,
   "id": "actual-married",
   "metadata": {
    "ExecuteTime": {
     "end_time": "2021-01-19T04:38:02.531062Z",
     "start_time": "2021-01-19T04:38:02.510707Z"
    }
   },
   "outputs": [
    {
     "name": "stdout",
     "output_type": "stream",
     "text": [
      "Hellooo!\n"
     ]
    }
   ],
   "source": [
    "print('Hellooo!')"
   ]
  },
  {
   "cell_type": "code",
   "execution_count": 2,
   "id": "abstract-advocate",
   "metadata": {
    "ExecuteTime": {
     "end_time": "2021-01-19T04:38:02.844903Z",
     "start_time": "2021-01-19T04:38:02.533512Z"
    }
   },
   "outputs": [],
   "source": [
    "import time\n",
    "from pyspark import SparkConf\n",
    "from pyspark.sql import SparkSession, DataFrame\n",
    "import pyspark.sql.functions as F"
   ]
  },
  {
   "cell_type": "code",
   "execution_count": 3,
   "id": "confidential-drive",
   "metadata": {
    "ExecuteTime": {
     "end_time": "2021-01-19T04:38:02.850574Z",
     "start_time": "2021-01-19T04:38:02.847637Z"
    }
   },
   "outputs": [],
   "source": [
    "BASE_DIR='/usr/local/google/home/bashir/git_repos/bashir2/openmrs-fhir-warehouse/tmp/temp_test_parquet/'\n",
    "BASE_PATIENT_URL='http://localhost:8099/openmrs/ws/fhir2/R4/Patient/'"
   ]
  },
  {
   "cell_type": "code",
   "execution_count": 4,
   "id": "typical-wellington",
   "metadata": {
    "ExecuteTime": {
     "end_time": "2021-01-19T04:38:02.974519Z",
     "start_time": "2021-01-19T04:38:02.853017Z"
    }
   },
   "outputs": [],
   "source": [
    "conf = (SparkConf()\n",
    "        .setMaster('local[20]')\n",
    "        .setAppName('IndicatorsApp')\n",
    "        .set('spark.executor.memory', '2g')\n",
    "        # We don't explicitly `cache()` but it should happen automatically after shuffles; so\n",
    "        # we need to be careful if we want to change the following (the defaults is 0.6).\n",
    "        #\n",
    "        # NOTE: It seems in some cases automatic caching after shuffle is not happening,\n",
    "        # see examples/notes below.\n",
    "        #\n",
    "        #.set('spark.storage.memoryFraction', 0.2)\n",
    "       )"
   ]
  },
  {
   "cell_type": "code",
   "execution_count": 5,
   "id": "reflected-duncan",
   "metadata": {
    "ExecuteTime": {
     "end_time": "2021-01-19T04:38:03.094429Z",
     "start_time": "2021-01-19T04:38:02.976625Z"
    }
   },
   "outputs": [
    {
     "data": {
      "text/plain": [
       "<pyspark.conf.SparkConf at 0x7f2a813909a0>"
      ]
     },
     "execution_count": 5,
     "metadata": {},
     "output_type": "execute_result"
    }
   ],
   "source": [
    "conf"
   ]
  },
  {
   "cell_type": "code",
   "execution_count": 6,
   "id": "german-candy",
   "metadata": {
    "ExecuteTime": {
     "end_time": "2021-01-19T04:38:08.406909Z",
     "start_time": "2021-01-19T04:38:03.097053Z"
    }
   },
   "outputs": [],
   "source": [
    "spark = SparkSession.builder.config(conf=conf).getOrCreate()"
   ]
  },
  {
   "cell_type": "markdown",
   "id": "rising-drain",
   "metadata": {},
   "source": [
    "# Loading Parquet files, sample aggregate queries, and Pandas conversion.\n",
    "The `Observation` directory below contained 441MB of Parquet content at the time of these tests.\n",
    "These are generated from the test data in the docker test image repeated 64 times.\n",
    "\n",
    "Note there are some inconsistencies in the number of resources which needs to be investigated in\n",
    "the batch pipeline."
   ]
  },
  {
   "cell_type": "code",
   "execution_count": 7,
   "id": "becoming-trance",
   "metadata": {
    "ExecuteTime": {
     "end_time": "2021-01-19T04:38:12.788487Z",
     "start_time": "2021-01-19T04:38:08.408784Z"
    }
   },
   "outputs": [
    {
     "name": "stdout",
     "output_type": "stream",
     "text": [
      "Elapsed time:  4.37597393989563\n"
     ]
    }
   ],
   "source": [
    "start = time.time()\n",
    "#all_obs = spark.read.parquet(BASE_DIR + 'Observation/*-00005')\n",
    "all_obs = spark.read.parquet(BASE_DIR + 'Observation')\n",
    "end = time.time()\n",
    "print('Elapsed time: ', end - start)"
   ]
  },
  {
   "cell_type": "code",
   "execution_count": 8,
   "id": "regional-saskatchewan",
   "metadata": {
    "ExecuteTime": {
     "end_time": "2021-01-19T04:38:18.658018Z",
     "start_time": "2021-01-19T04:38:12.795420Z"
    }
   },
   "outputs": [
    {
     "name": "stdout",
     "output_type": "stream",
     "text": [
      "Number of observations=  2745600\n",
      "Elapsed time:  5.8592164516448975\n"
     ]
    }
   ],
   "source": [
    "start = time.time()\n",
    "print('Number of observations= ', all_obs.count())\n",
    "end = time.time()\n",
    "print('Elapsed time: ', end - start)"
   ]
  },
  {
   "cell_type": "code",
   "execution_count": 9,
   "id": "parliamentary-office",
   "metadata": {
    "ExecuteTime": {
     "end_time": "2021-01-19T04:38:19.651048Z",
     "start_time": "2021-01-19T04:38:18.660240Z"
    }
   },
   "outputs": [
    {
     "name": "stdout",
     "output_type": "stream",
     "text": [
      "Number of patients=  600\n"
     ]
    }
   ],
   "source": [
    "all_patients = spark.read.parquet(BASE_DIR + '/Patient')\n",
    "print('Number of patients= ', all_patients.count())"
   ]
  },
  {
   "cell_type": "code",
   "execution_count": 10,
   "id": "higher-stage",
   "metadata": {
    "ExecuteTime": {
     "end_time": "2021-01-19T04:38:20.620714Z",
     "start_time": "2021-01-19T04:38:19.652754Z"
    }
   },
   "outputs": [
    {
     "name": "stdout",
     "output_type": "stream",
     "text": [
      "Number of encounters=  6786\n"
     ]
    }
   ],
   "source": [
    "all_encounters = spark.read.parquet(BASE_DIR + '/Encounter')\n",
    "print('Number of encounters= ', all_encounters.count())"
   ]
  },
  {
   "cell_type": "code",
   "execution_count": 11,
   "id": "charitable-charm",
   "metadata": {
    "ExecuteTime": {
     "end_time": "2021-01-19T04:38:20.625670Z",
     "start_time": "2021-01-19T04:38:20.622920Z"
    }
   },
   "outputs": [],
   "source": [
    "start_date='2020-12-09'\n",
    "end_date='2020-12-10'"
   ]
  },
  {
   "cell_type": "code",
   "execution_count": 12,
   "id": "touched-religion",
   "metadata": {
    "ExecuteTime": {
     "end_time": "2021-01-19T04:38:24.277722Z",
     "start_time": "2021-01-19T04:38:20.627314Z"
    }
   },
   "outputs": [
    {
     "name": "stdout",
     "output_type": "stream",
     "text": [
      "Number of filtered observations=  2560\n"
     ]
    }
   ],
   "source": [
    "obs_filtered = all_obs.select(\n",
    "      'subject.patientId', 'effective.dateTime', 'code', 'value').filter(\n",
    "      all_obs.effective.dateTime > start_date).filter(\n",
    "      all_obs.effective.dateTime < end_date)\n",
    "print('Number of filtered observations= ', obs_filtered.count())"
   ]
  },
  {
   "cell_type": "code",
   "execution_count": 13,
   "id": "productive-unemployment",
   "metadata": {
    "ExecuteTime": {
     "end_time": "2021-01-19T04:38:25.378760Z",
     "start_time": "2021-01-19T04:38:24.279385Z"
    }
   },
   "outputs": [
    {
     "data": {
      "text/plain": [
       "Row(patientId='e41b559d-3555-4efd-8742-996576d75dee', dateTime='2020-12-09T08:29:49+00:00', code=Row(id=None, coding=[Row(id=None, system=None, version=None, code='5086AAAAAAAAAAAAAAAAAAAAAAAAAAAAAAAA', display='Diastolic blood pressure', userSelected=None)], text=None), value=Row(quantity=Row(id=None, value=Decimal('62.0000'), comparator=None, unit=None, system=None, code=None), codeableConcept=None, string=None, boolean=None, range=None, ratio=None, sampledData=None, attachment=None, time=None, dateTime=None, period=None))"
      ]
     },
     "execution_count": 13,
     "metadata": {},
     "output_type": "execute_result"
    }
   ],
   "source": [
    "obs_filtered.head()"
   ]
  },
  {
   "cell_type": "code",
   "execution_count": 14,
   "id": "viral-bachelor",
   "metadata": {
    "ExecuteTime": {
     "end_time": "2021-01-19T04:38:32.436536Z",
     "start_time": "2021-01-19T04:38:25.380121Z"
    }
   },
   "outputs": [
    {
     "name": "stdout",
     "output_type": "stream",
     "text": [
      "Number of codes=  13\n"
     ]
    },
    {
     "data": {
      "text/plain": [
       "[Row(code='5088AAAAAAAAAAAAAAAAAAAAAAAAAAAAAAAA', count(1)=192),\n",
       " Row(code='5086AAAAAAAAAAAAAAAAAAAAAAAAAAAAAAAA', count(1)=192),\n",
       " Row(code='162169AAAAAAAAAAAAAAAAAAAAAAAAAAAAAA', count(1)=256),\n",
       " Row(code='1284AAAAAAAAAAAAAAAAAAAAAAAAAAAAAAAA', count(1)=192),\n",
       " Row(code='5089AAAAAAAAAAAAAAAAAAAAAAAAAAAAAAAA', count(1)=256)]"
      ]
     },
     "execution_count": 14,
     "metadata": {},
     "output_type": "execute_result"
    }
   ],
   "source": [
    "obs_codes = obs_filtered.select(\n",
    "    obs_filtered.patientId, obs_filtered.dateTime, obs_filtered.value,\n",
    "    F.explode(obs_filtered.code.coding).alias('coding'))\n",
    "grouped_obs = obs_codes.groupBy(['coding.code']).agg({'*':'count'})\n",
    "print('Number of codes= ', grouped_obs.count())\n",
    "grouped_obs.head(5)"
   ]
  },
  {
   "cell_type": "code",
   "execution_count": 15,
   "id": "genetic-addition",
   "metadata": {
    "ExecuteTime": {
     "end_time": "2021-01-19T04:38:38.295047Z",
     "start_time": "2021-01-19T04:38:32.438125Z"
    }
   },
   "outputs": [
    {
     "name": "stdout",
     "output_type": "stream",
     "text": [
      "Number of codes=  13\n"
     ]
    },
    {
     "data": {
      "text/plain": [
       "[Row(coding_code='5088AAAAAAAAAAAAAAAAAAAAAAAAAAAAAAAA', num_obs=182208),\n",
       " Row(coding_code='5086AAAAAAAAAAAAAAAAAAAAAAAAAAAAAAAA', num_obs=182400),\n",
       " Row(coding_code='162169AAAAAAAAAAAAAAAAAAAAAAAAAAAAAA', num_obs=180736),\n",
       " Row(coding_code='1284AAAAAAAAAAAAAAAAAAAAAAAAAAAAAAAA', num_obs=273664),\n",
       " Row(coding_code='5089AAAAAAAAAAAAAAAAAAAAAAAAAAAAAAAA', num_obs=184128)]"
      ]
     },
     "execution_count": 15,
     "metadata": {},
     "output_type": "execute_result"
    }
   ],
   "source": [
    "# Repeating the same cell with `all_obs` to check performance difference.\n",
    "all_obs_codes = all_obs.select(\n",
    "    all_obs.subject.patientId, all_obs.effective.dateTime, all_obs.value,\n",
    "    F.explode(all_obs.code.coding).alias('coding'))\n",
    "#grouped_all_obs = all_obs_codes.groupBy(['coding.code']).agg(\n",
    "#    {'*':'count'}).withColumnRenamed('count(1)', 'num_obs')\n",
    "grouped_all_obs = all_obs_codes.groupBy([all_obs_codes.coding.code.alias('coding_code')]).agg(\n",
    "    F.count('*').alias('num_obs'))\n",
    "print('Number of codes= ', grouped_all_obs.count())\n",
    "grouped_all_obs.head(5)"
   ]
  },
  {
   "cell_type": "code",
   "execution_count": 16,
   "id": "sonic-unemployment",
   "metadata": {
    "ExecuteTime": {
     "end_time": "2021-01-19T04:38:40.594364Z",
     "start_time": "2021-01-19T04:38:38.296890Z"
    }
   },
   "outputs": [
    {
     "name": "stdout",
     "output_type": "stream",
     "text": [
      "+--------------------+-------+\n",
      "|         coding_code|num_obs|\n",
      "+--------------------+-------+\n",
      "|5088AAAAAAAAAAAAA...| 182208|\n",
      "|5086AAAAAAAAAAAAA...| 182400|\n",
      "|162169AAAAAAAAAAA...| 180736|\n",
      "|1284AAAAAAAAAAAAA...| 273664|\n",
      "|5089AAAAAAAAAAAAA...| 184128|\n",
      "|5087AAAAAAAAAAAAA...| 182400|\n",
      "|5085AAAAAAAAAAAAA...| 184128|\n",
      "|5090AAAAAAAAAAAAA...| 183488|\n",
      "|159394AAAAAAAAAAA...| 273856|\n",
      "|5242AAAAAAAAAAAAA...| 184896|\n",
      "|159947AAAAAAAAAAA...| 274944|\n",
      "|5092AAAAAAAAAAAAA...| 183808|\n",
      "|159946AAAAAAAAAAA...| 274944|\n",
      "+--------------------+-------+\n",
      "\n"
     ]
    }
   ],
   "source": [
    "grouped_all_obs.show()"
   ]
  },
  {
   "cell_type": "code",
   "execution_count": 17,
   "id": "trying-venture",
   "metadata": {
    "ExecuteTime": {
     "end_time": "2021-01-19T04:38:42.929121Z",
     "start_time": "2021-01-19T04:38:40.596371Z"
    }
   },
   "outputs": [
    {
     "data": {
      "text/html": [
       "<div>\n",
       "<style scoped>\n",
       "    .dataframe tbody tr th:only-of-type {\n",
       "        vertical-align: middle;\n",
       "    }\n",
       "\n",
       "    .dataframe tbody tr th {\n",
       "        vertical-align: top;\n",
       "    }\n",
       "\n",
       "    .dataframe thead th {\n",
       "        text-align: right;\n",
       "    }\n",
       "</style>\n",
       "<table border=\"1\" class=\"dataframe\">\n",
       "  <thead>\n",
       "    <tr style=\"text-align: right;\">\n",
       "      <th></th>\n",
       "      <th>coding_code</th>\n",
       "      <th>num_obs</th>\n",
       "    </tr>\n",
       "  </thead>\n",
       "  <tbody>\n",
       "    <tr>\n",
       "      <th>0</th>\n",
       "      <td>5088AAAAAAAAAAAAAAAAAAAAAAAAAAAAAAAA</td>\n",
       "      <td>182208</td>\n",
       "    </tr>\n",
       "    <tr>\n",
       "      <th>1</th>\n",
       "      <td>5086AAAAAAAAAAAAAAAAAAAAAAAAAAAAAAAA</td>\n",
       "      <td>182400</td>\n",
       "    </tr>\n",
       "    <tr>\n",
       "      <th>2</th>\n",
       "      <td>162169AAAAAAAAAAAAAAAAAAAAAAAAAAAAAA</td>\n",
       "      <td>180736</td>\n",
       "    </tr>\n",
       "    <tr>\n",
       "      <th>3</th>\n",
       "      <td>1284AAAAAAAAAAAAAAAAAAAAAAAAAAAAAAAA</td>\n",
       "      <td>273664</td>\n",
       "    </tr>\n",
       "    <tr>\n",
       "      <th>4</th>\n",
       "      <td>5089AAAAAAAAAAAAAAAAAAAAAAAAAAAAAAAA</td>\n",
       "      <td>184128</td>\n",
       "    </tr>\n",
       "    <tr>\n",
       "      <th>5</th>\n",
       "      <td>5087AAAAAAAAAAAAAAAAAAAAAAAAAAAAAAAA</td>\n",
       "      <td>182400</td>\n",
       "    </tr>\n",
       "    <tr>\n",
       "      <th>6</th>\n",
       "      <td>5085AAAAAAAAAAAAAAAAAAAAAAAAAAAAAAAA</td>\n",
       "      <td>184128</td>\n",
       "    </tr>\n",
       "    <tr>\n",
       "      <th>7</th>\n",
       "      <td>5090AAAAAAAAAAAAAAAAAAAAAAAAAAAAAAAA</td>\n",
       "      <td>183488</td>\n",
       "    </tr>\n",
       "    <tr>\n",
       "      <th>8</th>\n",
       "      <td>159394AAAAAAAAAAAAAAAAAAAAAAAAAAAAAA</td>\n",
       "      <td>273856</td>\n",
       "    </tr>\n",
       "    <tr>\n",
       "      <th>9</th>\n",
       "      <td>5242AAAAAAAAAAAAAAAAAAAAAAAAAAAAAAAA</td>\n",
       "      <td>184896</td>\n",
       "    </tr>\n",
       "    <tr>\n",
       "      <th>10</th>\n",
       "      <td>159947AAAAAAAAAAAAAAAAAAAAAAAAAAAAAA</td>\n",
       "      <td>274944</td>\n",
       "    </tr>\n",
       "    <tr>\n",
       "      <th>11</th>\n",
       "      <td>5092AAAAAAAAAAAAAAAAAAAAAAAAAAAAAAAA</td>\n",
       "      <td>183808</td>\n",
       "    </tr>\n",
       "    <tr>\n",
       "      <th>12</th>\n",
       "      <td>159946AAAAAAAAAAAAAAAAAAAAAAAAAAAAAA</td>\n",
       "      <td>274944</td>\n",
       "    </tr>\n",
       "  </tbody>\n",
       "</table>\n",
       "</div>"
      ],
      "text/plain": [
       "                             coding_code  num_obs\n",
       "0   5088AAAAAAAAAAAAAAAAAAAAAAAAAAAAAAAA   182208\n",
       "1   5086AAAAAAAAAAAAAAAAAAAAAAAAAAAAAAAA   182400\n",
       "2   162169AAAAAAAAAAAAAAAAAAAAAAAAAAAAAA   180736\n",
       "3   1284AAAAAAAAAAAAAAAAAAAAAAAAAAAAAAAA   273664\n",
       "4   5089AAAAAAAAAAAAAAAAAAAAAAAAAAAAAAAA   184128\n",
       "5   5087AAAAAAAAAAAAAAAAAAAAAAAAAAAAAAAA   182400\n",
       "6   5085AAAAAAAAAAAAAAAAAAAAAAAAAAAAAAAA   184128\n",
       "7   5090AAAAAAAAAAAAAAAAAAAAAAAAAAAAAAAA   183488\n",
       "8   159394AAAAAAAAAAAAAAAAAAAAAAAAAAAAAA   273856\n",
       "9   5242AAAAAAAAAAAAAAAAAAAAAAAAAAAAAAAA   184896\n",
       "10  159947AAAAAAAAAAAAAAAAAAAAAAAAAAAAAA   274944\n",
       "11  5092AAAAAAAAAAAAAAAAAAAAAAAAAAAAAAAA   183808\n",
       "12  159946AAAAAAAAAAAAAAAAAAAAAAAAAAAAAA   274944"
      ]
     },
     "execution_count": 17,
     "metadata": {},
     "output_type": "execute_result"
    }
   ],
   "source": [
    "grouped_all_obs_P = grouped_all_obs.toPandas()\n",
    "grouped_all_obs_P"
   ]
  },
  {
   "cell_type": "code",
   "execution_count": 18,
   "id": "forced-mixer",
   "metadata": {
    "ExecuteTime": {
     "end_time": "2021-01-19T04:38:42.935689Z",
     "start_time": "2021-01-19T04:38:42.931156Z"
    }
   },
   "outputs": [
    {
     "data": {
      "text/plain": [
       "2745600"
      ]
     },
     "execution_count": 18,
     "metadata": {},
     "output_type": "execute_result"
    }
   ],
   "source": [
    "# Verifying that all observations have a code.\n",
    "grouped_all_obs_P['num_obs'].sum()"
   ]
  },
  {
   "cell_type": "markdown",
   "id": "dependent-marina",
   "metadata": {},
   "source": [
    "# Restructure Observations and join with Patients"
   ]
  },
  {
   "cell_type": "code",
   "execution_count": 19,
   "id": "polyphonic-growth",
   "metadata": {
    "ExecuteTime": {
     "end_time": "2021-01-19T04:38:44.335023Z",
     "start_time": "2021-01-19T04:38:42.937609Z"
    },
    "scrolled": true
   },
   "outputs": [
    {
     "data": {
      "text/plain": [
       "Row(id='http://localhost:8099/openmrs/ws/fhir2/R4/Observation/fb2557a1-7473-4a9b-9bfd-b698dbef8258', meta=None, implicitRules=None, language=None, text=None, contained=None, identifier=None, basedOn=None, status='amended', category=[Row(id=None, coding=[Row(id=None, system='http://terminology.hl7.org/CodeSystem/observation-category', version=None, code='exam', display='Exam', userSelected=None)], text=None)], code=Row(id=None, coding=[Row(id=None, system=None, version=None, code='159946AAAAAAAAAAAAAAAAAAAAAAAAAAAAAA', display='Diagnosis order', userSelected=None)], text=None), subject=Row(DeviceId=None, GroupId=None, LocationId=None, PatientId='1eaa25ac-28b2-49c4-bf83-df9533d65eb8', id=None, reference='Patient/1eaa25ac-28b2-49c4-bf83-df9533d65eb8', identifier=None, display='Joshua González (OpenMRS ID: 100E1E)'), context=Row(EncounterId='eed74c4c-0f7a-488b-9405-b4a86716434b', EpisodeOfCareId=None, id=None, reference='Encounter/eed74c4c-0f7a-488b-9405-b4a86716434b', identifier=None, display=None), effective=Row(dateTime='2019-10-07T09:14:34+00:00', period=None), issued='2020-12-09T10:52:34.000+00:00', performer=None, value=Row(quantity=None, codeableConcept=Row(id=None, coding=[Row(id=None, system=None, version=None, code='159944AAAAAAAAAAAAAAAAAAAAAAAAAAAAAA', display='Secondary', userSelected=None)], text=None), string=None, boolean=None, range=None, ratio=None, sampledData=None, attachment=None, time=None, dateTime=None, period=None), dataAbsentReason=None, interpretation=None, comment=None, bodySite=None, method=None, specimen=None, device=None, referenceRange=None, related=None, component=None)"
      ]
     },
     "execution_count": 19,
     "metadata": {},
     "output_type": "execute_result"
    }
   ],
   "source": [
    "all_obs.head()"
   ]
  },
  {
   "cell_type": "code",
   "execution_count": 20,
   "id": "million-affair",
   "metadata": {
    "ExecuteTime": {
     "end_time": "2021-01-19T04:38:44.960088Z",
     "start_time": "2021-01-19T04:38:44.336394Z"
    }
   },
   "outputs": [
    {
     "data": {
      "text/plain": [
       "Row(patientId='1eaa25ac-28b2-49c4-bf83-df9533d65eb8', dateTime='2019-10-07T09:14:34+00:00', value=Row(quantity=None, codeableConcept=Row(id=None, coding=[Row(id=None, system=None, version=None, code='159944AAAAAAAAAAAAAAAAAAAAAAAAAAAAAA', display='Secondary', userSelected=None)], text=None), string=None, boolean=None, range=None, ratio=None, sampledData=None, attachment=None, time=None, dateTime=None, period=None), coding=Row(id=None, system=None, version=None, code='159946AAAAAAAAAAAAAAAAAAAAAAAAAAAAAA', display='Diagnosis order', userSelected=None))"
      ]
     },
     "execution_count": 20,
     "metadata": {},
     "output_type": "execute_result"
    }
   ],
   "source": [
    "coded_obs = all_obs.select(\n",
    "    all_obs.subject.patientId.alias('patientId'),\n",
    "    all_obs.effective.dateTime.alias('dateTime'),\n",
    "    all_obs.value,\n",
    "    F.explode(all_obs.code.coding).alias('coding'))\n",
    "coded_obs.head()"
   ]
  },
  {
   "cell_type": "code",
   "execution_count": 21,
   "id": "north-theme",
   "metadata": {
    "ExecuteTime": {
     "end_time": "2021-01-19T04:38:45.337370Z",
     "start_time": "2021-01-19T04:38:44.961449Z"
    }
   },
   "outputs": [
    {
     "data": {
      "text/plain": [
       "Row(id='http://localhost:8099/openmrs/ws/fhir2/R4/Patient/80d54136-d00b-4dc1-a716-22e99e9f65d1', meta=None, implicitRules=None, language=None, text=None, contained=None, identifier=[Row(id='73e2d312-a785-4f41-8ea7-2b90d9a00af7', use='official', type=Row(id=None, coding=None, text='OpenMRS ID'), system=None, value='1002GU', period=None, assigner=None)], active=True, name=[Row(id='1b8adda2-c370-4114-96c3-c9056afea3df', use=None, text=None, family='Johnson', given=['Betty'], prefix=None, suffix=None, period=None)], telecom=None, gender='female', birthDate='1998-02-20', deceased=Row(boolean=False, dateTime=None), address=[Row(id='f36ff160-a06f-4af5-8270-ded8e570e142', use='home', type=None, text=None, line=None, city='City5489', district=None, state='State5489', postalCode='85489', country='Country5489', period=None)], maritalStatus=None, multipleBirth=None, photo=None, contact=None, animal=None, communication=None, generalPractitioner=None, managingOrganization=None, link=None)"
      ]
     },
     "execution_count": 21,
     "metadata": {},
     "output_type": "execute_result"
    }
   ],
   "source": [
    "all_patients.head()"
   ]
  },
  {
   "cell_type": "code",
   "execution_count": 22,
   "id": "entertaining-regression",
   "metadata": {
    "ExecuteTime": {
     "end_time": "2021-01-19T04:38:45.680669Z",
     "start_time": "2021-01-19T04:38:45.339796Z"
    }
   },
   "outputs": [
    {
     "data": {
      "text/plain": [
       "Row(id='http://localhost:8099/openmrs/ws/fhir2/R4/Patient/80d54136-d00b-4dc1-a716-22e99e9f65d1', given='Betty', family='Johnson', core_id='80d54136-d00b-4dc1-a716-22e99e9f65d1')"
      ]
     },
     "execution_count": 22,
     "metadata": {},
     "output_type": "execute_result"
    }
   ],
   "source": [
    "patient_name = all_patients.select(\n",
    "    all_patients.id,\n",
    "    all_patients.name[0].given[0].alias('given'),\n",
    "    all_patients.name[0].family.alias('family')).withColumn(\n",
    "      'core_id', F.regexp_replace('id', BASE_PATIENT_URL, ''))\n",
    "patient_name.head()"
   ]
  },
  {
   "cell_type": "code",
   "execution_count": 23,
   "id": "urban-ecuador",
   "metadata": {
    "ExecuteTime": {
     "end_time": "2021-01-19T04:38:50.796551Z",
     "start_time": "2021-01-19T04:38:45.684563Z"
    }
   },
   "outputs": [
    {
     "name": "stdout",
     "output_type": "stream",
     "text": [
      "Number of joined rows=  1689856\n"
     ]
    },
    {
     "data": {
      "text/plain": [
       "Row(id='http://localhost:8099/openmrs/ws/fhir2/R4/Patient/8ad40cda-d588-4d3a-bd8f-340ad91cd1dd', given='Jennifer', family='Anderson', core_id='8ad40cda-d588-4d3a-bd8f-340ad91cd1dd', patientId='8ad40cda-d588-4d3a-bd8f-340ad91cd1dd', dateTime='2020-02-06T08:25:01+00:00', value=Row(quantity=Row(id=None, value=Decimal('220.0000'), comparator=None, unit=None, system=None, code=None), codeableConcept=None, string=None, boolean=None, range=None, ratio=None, sampledData=None, attachment=None, time=None, dateTime=None, period=None), coding=Row(id=None, system=None, version=None, code='5087AAAAAAAAAAAAAAAAAAAAAAAAAAAAAAAA', display='Pulse', userSelected=None))"
      ]
     },
     "execution_count": 23,
     "metadata": {},
     "output_type": "execute_result"
    }
   ],
   "source": [
    "joined_obs = patient_name.join(\n",
    "    coded_obs, patient_name.core_id == coded_obs.patientId)\n",
    "print('Number of joined rows= ', joined_obs.count())\n",
    "joined_obs.head()"
   ]
  },
  {
   "cell_type": "code",
   "execution_count": 24,
   "id": "recorded-massage",
   "metadata": {
    "ExecuteTime": {
     "end_time": "2021-01-19T04:38:53.733192Z",
     "start_time": "2021-01-19T04:38:50.798122Z"
    }
   },
   "outputs": [
    {
     "name": "stdout",
     "output_type": "stream",
     "text": [
      "all_obs: 2745600 coded_obs: 2745600\n"
     ]
    }
   ],
   "source": [
    "print('all_obs: {} coded_obs: {}'.format(all_obs.count(), coded_obs.count()))"
   ]
  },
  {
   "cell_type": "code",
   "execution_count": 25,
   "id": "extraordinary-removal",
   "metadata": {
    "ExecuteTime": {
     "end_time": "2021-01-19T04:39:00.865156Z",
     "start_time": "2021-01-19T04:38:53.734814Z"
    }
   },
   "outputs": [
    {
     "data": {
      "text/plain": [
       "[Row(patientId='e7a0cf31-54fa-49fa-a5d9-2581493618d1', given='Nancy', family='Harris', coding[code]='5090AAAAAAAAAAAAAAAAAAAAAAAAAAAAAAAA', max(value.quantity.value AS `value`)=Decimal('181.0000'), num_obs=384),\n",
       " Row(patientId='0ade630a-f6f2-43e5-9020-8be3a4f26068', given='George', family='Young', coding[code]='5089AAAAAAAAAAAAAAAAAAAAAAAAAAAAAAAA', max(value.quantity.value AS `value`)=Decimal('12.0000'), num_obs=64),\n",
       " Row(patientId='37880e58-a527-4472-980c-74d7e669486c', given='John', family='Lewis', coding[code]='159394AAAAAAAAAAAAAAAAAAAAAAAAAAAAAA', max(value.quantity.value AS `value`)=None, num_obs=384),\n",
       " Row(patientId='58aa1147-09fc-43dd-a83d-387d17bd6bce', given='Edward', family='Taylor', coding[code]='159394AAAAAAAAAAAAAAAAAAAAAAAAAAAAAA', max(value.quantity.value AS `value`)=None, num_obs=512),\n",
       " Row(patientId='0165cf25-8438-4d9c-b575-cd3913c66fbf', given='Michael', family='Lee', coding[code]='162169AAAAAAAAAAAAAAAAAAAAAAAAAAAAAA', max(value.quantity.value AS `value`)=None, num_obs=384)]"
      ]
     },
     "execution_count": 25,
     "metadata": {},
     "output_type": "execute_result"
    }
   ],
   "source": [
    "agg_obs = joined_obs.groupBy(\n",
    "    [joined_obs.patientId, joined_obs.given, joined_obs.family, joined_obs.coding.code]).agg(\n",
    "    {'*':'count', 'value.quantity.value':'max'}).withColumnRenamed('count(1)', 'num_obs')\n",
    "agg_obs.head(5)"
   ]
  },
  {
   "cell_type": "code",
   "execution_count": 26,
   "id": "multiple-picking",
   "metadata": {
    "ExecuteTime": {
     "end_time": "2021-01-19T04:39:04.909722Z",
     "start_time": "2021-01-19T04:39:00.867160Z"
    }
   },
   "outputs": [
    {
     "name": "stdout",
     "output_type": "stream",
     "text": [
      "Number of aggregated rows=  6617\n"
     ]
    }
   ],
   "source": [
    "agg_obs = joined_obs.groupBy([\n",
    "    joined_obs.patientId,\n",
    "    joined_obs.given,\n",
    "    joined_obs.family,\n",
    "    joined_obs.coding.code.alias('coding_code')\n",
    "]).agg(\n",
    "    F.count('*').alias('num_obs'),\n",
    "    F.max(joined_obs.value.quantity.value).alias('max_value'),\n",
    "    F.min(joined_obs.dateTime).alias('min_date'),\n",
    "    F.max(joined_obs.dateTime).alias('max_date')\n",
    ")\n",
    "print('Number of aggregated rows= ', agg_obs.count())\n",
    "#agg_obs.head(5)"
   ]
  },
  {
   "cell_type": "code",
   "execution_count": 27,
   "id": "ideal-jewelry",
   "metadata": {
    "ExecuteTime": {
     "end_time": "2021-01-19T04:39:14.712110Z",
     "start_time": "2021-01-19T04:39:09.777095Z"
    },
    "scrolled": true
   },
   "outputs": [
    {
     "data": {
      "text/plain": [
       "[Row(patientId='e7a0cf31-54fa-49fa-a5d9-2581493618d1', given='Nancy', family='Harris', coding_code='5088AAAAAAAAAAAAAAAAAAAAAAAAAAAAAAAA', num_obs=256, max_value=Decimal('38.0000'), min_date='2019-05-22T08:28:38+00:00', max_date='2019-08-28T07:58:39+00:00'),\n",
       " Row(patientId='e7a0cf31-54fa-49fa-a5d9-2581493618d1', given='Nancy', family='Harris', coding_code='5090AAAAAAAAAAAAAAAAAAAAAAAAAAAAAAAA', num_obs=384, max_value=Decimal('181.0000'), min_date='2019-01-14T08:28:39+00:00', max_date='2020-08-17T08:15:38+00:00'),\n",
       " Row(patientId='e7a0cf31-54fa-49fa-a5d9-2581493618d1', given='Nancy', family='Harris', coding_code='159947AAAAAAAAAAAAAAAAAAAAAAAAAAAAAA', num_obs=832, max_value=None, min_date='2019-01-14T09:13:39+00:00', max_date='2020-11-24T09:38:40+00:00'),\n",
       " Row(patientId='e7a0cf31-54fa-49fa-a5d9-2581493618d1', given='Nancy', family='Harris', coding_code='5089AAAAAAAAAAAAAAAAAAAAAAAAAAAAAAAA', num_obs=512, max_value=Decimal('171.0000'), min_date='2019-01-14T08:28:39+00:00', max_date='2020-11-24T07:59:40+00:00'),\n",
       " Row(patientId='e7a0cf31-54fa-49fa-a5d9-2581493618d1', given='Nancy', family='Harris', coding_code='159946AAAAAAAAAAAAAAAAAAAAAAAAAAAAAA', num_obs=512, max_value=None, min_date='2019-01-14T09:13:39+00:00', max_date='2020-08-17T09:09:38+00:00')]"
      ]
     },
     "execution_count": 27,
     "metadata": {},
     "output_type": "execute_result"
    }
   ],
   "source": [
    "# With no filter this can cause out-of-memory issues, probably because of the shuffle size or\n",
    "# issues around partitioning which we have not experimented with yet.\n",
    "\n",
    "agg_obs.filter(agg_obs.patientId == 'e7a0cf31-54fa-49fa-a5d9-2581493618d1').head(5)"
   ]
  },
  {
   "cell_type": "markdown",
   "id": "resident-reducing",
   "metadata": {},
   "source": [
    "# Making some functions out of these"
   ]
  },
  {
   "cell_type": "code",
   "execution_count": 43,
   "id": "elect-battery",
   "metadata": {
    "ExecuteTime": {
     "end_time": "2021-01-19T05:11:39.863155Z",
     "start_time": "2021-01-19T05:11:39.852364Z"
    }
   },
   "outputs": [],
   "source": [
    "def flatten_obs(obs: DataFrame) -> DataFrame:\n",
    "  return obs.select(\n",
    "      obs.subject.patientId.alias('patientId'),\n",
    "      obs.effective.dateTime.alias('dateTime'),\n",
    "      obs.value,\n",
    "      F.explode(obs.code.coding).alias('coding'))\n",
    "\n",
    "def aggregate_code_per_patient(\n",
    "    flat_obs: DataFrame, code: str, start_date: str=None, end_date: str=None) -> DataFrame:\n",
    "  if code is None:\n",
    "    raise ValueError('`code` is expected to be a valid code string.')\n",
    "  start_obs = flat_obs\n",
    "  if start_date:\n",
    "    start_obs = flat_obs.filter(flat_obs.dateTime > start_date)\n",
    "  date_obs = start_obs\n",
    "  if end_date:\n",
    "    date_obs = start_obs.filter(start_obs.dateTime < end_date)\n",
    "  code_obs = date_obs.filter(date_obs.coding.code == code)\n",
    "  return code_obs.groupBy([\n",
    "    flat_obs.patientId,\n",
    "    flat_obs.coding.code.alias('coding_code')\n",
    "  ]).agg(\n",
    "    F.count('*').alias('num_obs'),\n",
    "    F.min(flat_obs.value.quantity.value).alias('min_value'),\n",
    "    F.max(flat_obs.value.quantity.value).alias('max_value'),\n",
    "    F.min(flat_obs.dateTime).alias('min_date'),\n",
    "    F.max(flat_obs.dateTime).alias('max_date')\n",
    "  )"
   ]
  },
  {
   "cell_type": "code",
   "execution_count": 44,
   "id": "respective-belgium",
   "metadata": {
    "ExecuteTime": {
     "end_time": "2021-01-19T05:11:44.592249Z",
     "start_time": "2021-01-19T05:11:42.390493Z"
    }
   },
   "outputs": [
    {
     "data": {
      "text/plain": [
       "2745600"
      ]
     },
     "execution_count": 44,
     "metadata": {},
     "output_type": "execute_result"
    }
   ],
   "source": [
    "flat_obs = flatten_obs(all_obs)\n",
    "flat_obs.count()"
   ]
  },
  {
   "cell_type": "code",
   "execution_count": 45,
   "id": "natural-blanket",
   "metadata": {
    "ExecuteTime": {
     "end_time": "2021-01-19T05:11:57.968705Z",
     "start_time": "2021-01-19T05:11:50.277681Z"
    }
   },
   "outputs": [
    {
     "data": {
      "text/plain": [
       "844"
      ]
     },
     "execution_count": 45,
     "metadata": {},
     "output_type": "execute_result"
    }
   ],
   "source": [
    "aggregated_code_obs = aggregate_code_per_patient(flat_obs, '5090AAAAAAAAAAAAAAAAAAAAAAAAAAAAAAAA')\n",
    "aggregated_code_obs.cache()\n",
    "aggregated_code_obs.count()"
   ]
  },
  {
   "cell_type": "code",
   "execution_count": 46,
   "id": "fixed-nursery",
   "metadata": {
    "ExecuteTime": {
     "end_time": "2021-01-19T05:12:04.251490Z",
     "start_time": "2021-01-19T05:12:04.127043Z"
    }
   },
   "outputs": [
    {
     "data": {
      "text/plain": [
       "[Row(patientId='0a35552c-f4f7-4930-81a4-60d85ffcd6ba', coding_code='5090AAAAAAAAAAAAAAAAAAAAAAAAAAAAAAAA', num_obs=128, min_value=Decimal('106.0000'), max_value=Decimal('140.0000'), min_date='2019-05-30T08:20:20+00:00', max_date='2020-10-29T08:22:19+00:00'),\n",
       " Row(patientId='cc32422b-2f23-4ead-8612-b3dca499929d', coding_code='5090AAAAAAAAAAAAAAAAAAAAAAAAAAAAAAAA', num_obs=448, min_value=Decimal('31.0000'), max_value=Decimal('154.0000'), min_date='2019-03-20T08:21:29+00:00', max_date='2020-06-09T08:07:29+00:00'),\n",
       " Row(patientId='f16b5191-af47-4c5a-b9ca-71e0a4365824', coding_code='5090AAAAAAAAAAAAAAAAAAAAAAAAAAAAAAAA', num_obs=320, min_value=Decimal('56.0000'), max_value=Decimal('173.0000'), min_date='2019-06-12T08:35:27+00:00', max_date='2020-08-18T08:09:27+00:00'),\n",
       " Row(patientId='124d1b17-d3f8-4366-91d5-f66eef64f030', coding_code='5090AAAAAAAAAAAAAAAAAAAAAAAAAAAAAAAA', num_obs=192, min_value=Decimal('42.0000'), max_value=Decimal('202.0000'), min_date='2020-04-29T08:42:05+00:00', max_date='2020-09-24T08:52:06+00:00'),\n",
       " Row(patientId='393d07ea-a310-40fc-9f29-d5b91e1b2675', coding_code='5090AAAAAAAAAAAAAAAAAAAAAAAAAAAAAAAA', num_obs=64, min_value=Decimal('29.0000'), max_value=Decimal('29.0000'), min_date='2019-11-22T08:54:40+00:00', max_date='2019-11-22T08:54:40+00:00')]"
      ]
     },
     "execution_count": 46,
     "metadata": {},
     "output_type": "execute_result"
    }
   ],
   "source": [
    "# Note without the above `cache()` this will take another 7-8 seconds.\n",
    "aggregated_code_obs.head(5)"
   ]
  },
  {
   "cell_type": "code",
   "execution_count": 47,
   "id": "infectious-press",
   "metadata": {
    "ExecuteTime": {
     "end_time": "2021-01-19T05:13:19.740074Z",
     "start_time": "2021-01-19T05:13:19.311316Z"
    }
   },
   "outputs": [
    {
     "data": {
      "text/html": [
       "<div>\n",
       "<style scoped>\n",
       "    .dataframe tbody tr th:only-of-type {\n",
       "        vertical-align: middle;\n",
       "    }\n",
       "\n",
       "    .dataframe tbody tr th {\n",
       "        vertical-align: top;\n",
       "    }\n",
       "\n",
       "    .dataframe thead th {\n",
       "        text-align: right;\n",
       "    }\n",
       "</style>\n",
       "<table border=\"1\" class=\"dataframe\">\n",
       "  <thead>\n",
       "    <tr style=\"text-align: right;\">\n",
       "      <th></th>\n",
       "      <th>patientId</th>\n",
       "      <th>coding_code</th>\n",
       "      <th>num_obs</th>\n",
       "      <th>min_value</th>\n",
       "      <th>max_value</th>\n",
       "      <th>min_date</th>\n",
       "      <th>max_date</th>\n",
       "    </tr>\n",
       "  </thead>\n",
       "  <tbody>\n",
       "    <tr>\n",
       "      <th>0</th>\n",
       "      <td>0a35552c-f4f7-4930-81a4-60d85ffcd6ba</td>\n",
       "      <td>5090AAAAAAAAAAAAAAAAAAAAAAAAAAAAAAAA</td>\n",
       "      <td>128</td>\n",
       "      <td>106.0</td>\n",
       "      <td>140.0</td>\n",
       "      <td>2019-05-30T08:20:20+00:00</td>\n",
       "      <td>2020-10-29T08:22:19+00:00</td>\n",
       "    </tr>\n",
       "    <tr>\n",
       "      <th>1</th>\n",
       "      <td>cc32422b-2f23-4ead-8612-b3dca499929d</td>\n",
       "      <td>5090AAAAAAAAAAAAAAAAAAAAAAAAAAAAAAAA</td>\n",
       "      <td>448</td>\n",
       "      <td>31.0</td>\n",
       "      <td>154.0</td>\n",
       "      <td>2019-03-20T08:21:29+00:00</td>\n",
       "      <td>2020-06-09T08:07:29+00:00</td>\n",
       "    </tr>\n",
       "    <tr>\n",
       "      <th>2</th>\n",
       "      <td>f16b5191-af47-4c5a-b9ca-71e0a4365824</td>\n",
       "      <td>5090AAAAAAAAAAAAAAAAAAAAAAAAAAAAAAAA</td>\n",
       "      <td>320</td>\n",
       "      <td>56.0</td>\n",
       "      <td>173.0</td>\n",
       "      <td>2019-06-12T08:35:27+00:00</td>\n",
       "      <td>2020-08-18T08:09:27+00:00</td>\n",
       "    </tr>\n",
       "    <tr>\n",
       "      <th>3</th>\n",
       "      <td>124d1b17-d3f8-4366-91d5-f66eef64f030</td>\n",
       "      <td>5090AAAAAAAAAAAAAAAAAAAAAAAAAAAAAAAA</td>\n",
       "      <td>192</td>\n",
       "      <td>42.0</td>\n",
       "      <td>202.0</td>\n",
       "      <td>2020-04-29T08:42:05+00:00</td>\n",
       "      <td>2020-09-24T08:52:06+00:00</td>\n",
       "    </tr>\n",
       "    <tr>\n",
       "      <th>4</th>\n",
       "      <td>393d07ea-a310-40fc-9f29-d5b91e1b2675</td>\n",
       "      <td>5090AAAAAAAAAAAAAAAAAAAAAAAAAAAAAAAA</td>\n",
       "      <td>64</td>\n",
       "      <td>29.0</td>\n",
       "      <td>29.0</td>\n",
       "      <td>2019-11-22T08:54:40+00:00</td>\n",
       "      <td>2019-11-22T08:54:40+00:00</td>\n",
       "    </tr>\n",
       "  </tbody>\n",
       "</table>\n",
       "</div>"
      ],
      "text/plain": [
       "                              patientId                           coding_code  \\\n",
       "0  0a35552c-f4f7-4930-81a4-60d85ffcd6ba  5090AAAAAAAAAAAAAAAAAAAAAAAAAAAAAAAA   \n",
       "1  cc32422b-2f23-4ead-8612-b3dca499929d  5090AAAAAAAAAAAAAAAAAAAAAAAAAAAAAAAA   \n",
       "2  f16b5191-af47-4c5a-b9ca-71e0a4365824  5090AAAAAAAAAAAAAAAAAAAAAAAAAAAAAAAA   \n",
       "3  124d1b17-d3f8-4366-91d5-f66eef64f030  5090AAAAAAAAAAAAAAAAAAAAAAAAAAAAAAAA   \n",
       "4  393d07ea-a310-40fc-9f29-d5b91e1b2675  5090AAAAAAAAAAAAAAAAAAAAAAAAAAAAAAAA   \n",
       "\n",
       "   num_obs min_value max_value                   min_date  \\\n",
       "0      128     106.0     140.0  2019-05-30T08:20:20+00:00   \n",
       "1      448      31.0     154.0  2019-03-20T08:21:29+00:00   \n",
       "2      320      56.0     173.0  2019-06-12T08:35:27+00:00   \n",
       "3      192      42.0     202.0  2020-04-29T08:42:05+00:00   \n",
       "4       64      29.0      29.0  2019-11-22T08:54:40+00:00   \n",
       "\n",
       "                    max_date  \n",
       "0  2020-10-29T08:22:19+00:00  \n",
       "1  2020-06-09T08:07:29+00:00  \n",
       "2  2020-08-18T08:09:27+00:00  \n",
       "3  2020-09-24T08:52:06+00:00  \n",
       "4  2019-11-22T08:54:40+00:00  "
      ]
     },
     "execution_count": 47,
     "metadata": {},
     "output_type": "execute_result"
    }
   ],
   "source": [
    "aggregated_code_obs_P = aggregated_code_obs.toPandas()\n",
    "aggregated_code_obs_P.head()"
   ]
  },
  {
   "cell_type": "code",
   "execution_count": 50,
   "id": "handed-content",
   "metadata": {
    "ExecuteTime": {
     "end_time": "2021-01-19T05:20:02.772179Z",
     "start_time": "2021-01-19T05:20:02.518138Z"
    }
   },
   "outputs": [
    {
     "data": {
      "text/plain": [
       "<AxesSubplot:xlabel='min_value', ylabel='max_value'>"
      ]
     },
     "execution_count": 50,
     "metadata": {},
     "output_type": "execute_result"
    },
    {
     "data": {
      "image/png": "[encoded data removed]",
      "text/plain": [
       "<Figure size 432x288 with 1 Axes>"
      ]
     },
     "metadata": {
      "needs_background": "light"
     },
     "output_type": "display_data"
    }
   ],
   "source": [
    "# This is just to showcase conversion to Pandas and graph functionality; the\n",
    "# data has no realistic meaning as they are randomly generated.\n",
    "aggregated_code_obs_P.plot(kind='scatter', x='min_value', y='max_value')"
   ]
  }
 ],
 "metadata": {
  "kernelspec": {
   "display_name": "Python 3",
   "language": "python",
   "name": "python3"
  },
  "language_info": {
   "codemirror_mode": {
    "name": "ipython",
    "version": 3
   },
   "file_extension": ".py",
   "mimetype": "text/x-python",
   "name": "python",
   "nbconvert_exporter": "python",
   "pygments_lexer": "ipython3",
   "version": "3.8.6"
  }
 },
 "nbformat": 4,
 "nbformat_minor": 5
}
